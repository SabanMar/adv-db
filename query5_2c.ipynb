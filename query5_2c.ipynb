{
 "cells": [
  {
   "cell_type": "code",
   "execution_count": 4,
   "id": "21a0debf-f150-4fd7-a318-7763c9f9b1d4",
   "metadata": {},
   "outputs": [
    {
     "name": "stdout",
     "output_type": "stream",
     "text": [
      "Starting Spark application\n"
     ]
    },
    {
     "data": {
      "text/html": [
       "<table>\n",
       "<tr><th>ID</th><th>YARN Application ID</th><th>Kind</th><th>State</th><th>Spark UI</th><th>Driver log</th><th>User</th><th>Current session?</th></tr><tr><td>3071</td><td>application_1732639283265_3027</td><td>pyspark</td><td>idle</td><td><a target=\"_blank\" href=\"http://ip-192-168-1-36.eu-central-1.compute.internal:20888/proxy/application_1732639283265_3027/\">Link</a></td><td><a target=\"_blank\" href=\"http://ip-192-168-1-203.eu-central-1.compute.internal:8042/node/containerlogs/container_1732639283265_3027_01_000001/livy\">Link</a></td><td>None</td><td>✔</td></tr></table>"
      ],
      "text/plain": [
       "<IPython.core.display.HTML object>"
      ]
     },
     "metadata": {},
     "output_type": "display_data"
    },
    {
     "data": {
      "application/vnd.jupyter.widget-view+json": {
       "model_id": "",
       "version_major": 2,
       "version_minor": 0
      },
      "text/plain": [
       "FloatProgress(value=0.0, bar_style='info', description='Progress:', layout=Layout(height='25px', width='50%'),…"
      ]
     },
     "metadata": {},
     "output_type": "display_data"
    },
    {
     "name": "stdout",
     "output_type": "stream",
     "text": [
      "SparkSession available as 'spark'.\n"
     ]
    },
    {
     "data": {
      "text/html": [
       "Current session configs: <tt>{'conf': {'spark.sql.catalog.spark_catalog.type': 'hive', 'spark.executor.instances': '4', 'spark.executor.memory': '4g', 'spark.executor.cores': '2', 'spark.driver.memory': '4g'}, 'kind': 'pyspark'}</tt><br>"
      ],
      "text/plain": [
       "<IPython.core.display.HTML object>"
      ]
     },
     "metadata": {},
     "output_type": "display_data"
    },
    {
     "data": {
      "text/html": [
       "<table>\n",
       "<tr><th>ID</th><th>YARN Application ID</th><th>Kind</th><th>State</th><th>Spark UI</th><th>Driver log</th><th>User</th><th>Current session?</th></tr><tr><td>2944</td><td>application_1732639283265_2903</td><td>pyspark</td><td>idle</td><td><a target=\"_blank\" href=\"http://ip-192-168-1-36.eu-central-1.compute.internal:20888/proxy/application_1732639283265_2903/\">Link</a></td><td><a target=\"_blank\" href=\"http://ip-192-168-1-166.eu-central-1.compute.internal:8042/node/containerlogs/container_1732639283265_2903_01_000001/livy\">Link</a></td><td>None</td><td></td></tr><tr><td>2966</td><td>application_1732639283265_2924</td><td>pyspark</td><td>idle</td><td><a target=\"_blank\" href=\"http://ip-192-168-1-36.eu-central-1.compute.internal:20888/proxy/application_1732639283265_2924/\">Link</a></td><td><a target=\"_blank\" href=\"http://ip-192-168-1-91.eu-central-1.compute.internal:8042/node/containerlogs/container_1732639283265_2924_01_000001/livy\">Link</a></td><td>None</td><td></td></tr><tr><td>2971</td><td>application_1732639283265_2929</td><td>pyspark</td><td>idle</td><td><a target=\"_blank\" href=\"http://ip-192-168-1-36.eu-central-1.compute.internal:20888/proxy/application_1732639283265_2929/\">Link</a></td><td><a target=\"_blank\" href=\"http://ip-192-168-1-166.eu-central-1.compute.internal:8042/node/containerlogs/container_1732639283265_2929_01_000001/livy\">Link</a></td><td>None</td><td></td></tr><tr><td>2975</td><td>application_1732639283265_2933</td><td>pyspark</td><td>idle</td><td><a target=\"_blank\" href=\"http://ip-192-168-1-36.eu-central-1.compute.internal:20888/proxy/application_1732639283265_2933/\">Link</a></td><td><a target=\"_blank\" href=\"http://ip-192-168-1-94.eu-central-1.compute.internal:8042/node/containerlogs/container_1732639283265_2933_01_000001/livy\">Link</a></td><td>None</td><td></td></tr><tr><td>2976</td><td>application_1732639283265_2934</td><td>pyspark</td><td>idle</td><td><a target=\"_blank\" href=\"http://ip-192-168-1-36.eu-central-1.compute.internal:20888/proxy/application_1732639283265_2934/\">Link</a></td><td><a target=\"_blank\" href=\"http://ip-192-168-1-203.eu-central-1.compute.internal:8042/node/containerlogs/container_1732639283265_2934_01_000001/livy\">Link</a></td><td>None</td><td></td></tr><tr><td>3000</td><td>application_1732639283265_2958</td><td>pyspark</td><td>idle</td><td><a target=\"_blank\" href=\"http://ip-192-168-1-36.eu-central-1.compute.internal:20888/proxy/application_1732639283265_2958/\">Link</a></td><td><a target=\"_blank\" href=\"http://ip-192-168-1-233.eu-central-1.compute.internal:8042/node/containerlogs/container_1732639283265_2958_01_000001/livy\">Link</a></td><td>None</td><td></td></tr><tr><td>3005</td><td>application_1732639283265_2963</td><td>pyspark</td><td>idle</td><td><a target=\"_blank\" href=\"http://ip-192-168-1-36.eu-central-1.compute.internal:20888/proxy/application_1732639283265_2963/\">Link</a></td><td><a target=\"_blank\" href=\"http://ip-192-168-1-233.eu-central-1.compute.internal:8042/node/containerlogs/container_1732639283265_2963_01_000002/livy\">Link</a></td><td>None</td><td></td></tr><tr><td>3010</td><td>application_1732639283265_2968</td><td>pyspark</td><td>idle</td><td><a target=\"_blank\" href=\"http://ip-192-168-1-36.eu-central-1.compute.internal:20888/proxy/application_1732639283265_2968/\">Link</a></td><td><a target=\"_blank\" href=\"http://ip-192-168-1-193.eu-central-1.compute.internal:8042/node/containerlogs/container_1732639283265_2968_01_000001/livy\">Link</a></td><td>None</td><td></td></tr><tr><td>3017</td><td>application_1732639283265_2975</td><td>pyspark</td><td>idle</td><td><a target=\"_blank\" href=\"http://ip-192-168-1-36.eu-central-1.compute.internal:20888/proxy/application_1732639283265_2975/\">Link</a></td><td><a target=\"_blank\" href=\"http://ip-192-168-1-119.eu-central-1.compute.internal:8042/node/containerlogs/container_1732639283265_2975_01_000001/livy\">Link</a></td><td>None</td><td></td></tr><tr><td>3019</td><td>application_1732639283265_2977</td><td>pyspark</td><td>idle</td><td><a target=\"_blank\" href=\"http://ip-192-168-1-36.eu-central-1.compute.internal:20888/proxy/application_1732639283265_2977/\">Link</a></td><td><a target=\"_blank\" href=\"http://ip-192-168-1-112.eu-central-1.compute.internal:8042/node/containerlogs/container_1732639283265_2977_01_000001/livy\">Link</a></td><td>None</td><td></td></tr><tr><td>3021</td><td>application_1732639283265_2979</td><td>pyspark</td><td>idle</td><td><a target=\"_blank\" href=\"http://ip-192-168-1-36.eu-central-1.compute.internal:20888/proxy/application_1732639283265_2979/\">Link</a></td><td><a target=\"_blank\" href=\"http://ip-192-168-1-203.eu-central-1.compute.internal:8042/node/containerlogs/container_1732639283265_2979_01_000001/livy\">Link</a></td><td>None</td><td></td></tr><tr><td>3028</td><td>application_1732639283265_2986</td><td>pyspark</td><td>idle</td><td><a target=\"_blank\" href=\"http://ip-192-168-1-36.eu-central-1.compute.internal:20888/proxy/application_1732639283265_2986/\">Link</a></td><td><a target=\"_blank\" href=\"http://ip-192-168-1-193.eu-central-1.compute.internal:8042/node/containerlogs/container_1732639283265_2986_01_000001/livy\">Link</a></td><td>None</td><td></td></tr><tr><td>3029</td><td>application_1732639283265_2987</td><td>pyspark</td><td>idle</td><td><a target=\"_blank\" href=\"http://ip-192-168-1-36.eu-central-1.compute.internal:20888/proxy/application_1732639283265_2987/\">Link</a></td><td><a target=\"_blank\" href=\"http://ip-192-168-1-203.eu-central-1.compute.internal:8042/node/containerlogs/container_1732639283265_2987_01_000002/livy\">Link</a></td><td>None</td><td></td></tr><tr><td>3035</td><td>application_1732639283265_2993</td><td>pyspark</td><td>idle</td><td><a target=\"_blank\" href=\"http://ip-192-168-1-36.eu-central-1.compute.internal:20888/proxy/application_1732639283265_2993/\">Link</a></td><td><a target=\"_blank\" href=\"http://ip-192-168-1-178.eu-central-1.compute.internal:8042/node/containerlogs/container_1732639283265_2993_01_000001/livy\">Link</a></td><td>None</td><td></td></tr><tr><td>3041</td><td>application_1732639283265_2999</td><td>pyspark</td><td>idle</td><td><a target=\"_blank\" href=\"http://ip-192-168-1-36.eu-central-1.compute.internal:20888/proxy/application_1732639283265_2999/\">Link</a></td><td><a target=\"_blank\" href=\"http://ip-192-168-1-227.eu-central-1.compute.internal:8042/node/containerlogs/container_1732639283265_2999_01_000001/livy\">Link</a></td><td>None</td><td></td></tr><tr><td>3044</td><td>application_1732639283265_3002</td><td>pyspark</td><td>idle</td><td><a target=\"_blank\" href=\"http://ip-192-168-1-36.eu-central-1.compute.internal:20888/proxy/application_1732639283265_3002/\">Link</a></td><td><a target=\"_blank\" href=\"http://ip-192-168-1-91.eu-central-1.compute.internal:8042/node/containerlogs/container_1732639283265_3002_01_000002/livy\">Link</a></td><td>None</td><td></td></tr><tr><td>3046</td><td>application_1732639283265_3004</td><td>pyspark</td><td>idle</td><td><a target=\"_blank\" href=\"http://ip-192-168-1-36.eu-central-1.compute.internal:20888/proxy/application_1732639283265_3004/\">Link</a></td><td><a target=\"_blank\" href=\"http://ip-192-168-1-227.eu-central-1.compute.internal:8042/node/containerlogs/container_1732639283265_3004_01_000001/livy\">Link</a></td><td>None</td><td></td></tr><tr><td>3052</td><td>application_1732639283265_3010</td><td>pyspark</td><td>idle</td><td><a target=\"_blank\" href=\"http://ip-192-168-1-36.eu-central-1.compute.internal:20888/proxy/application_1732639283265_3010/\">Link</a></td><td><a target=\"_blank\" href=\"http://ip-192-168-1-193.eu-central-1.compute.internal:8042/node/containerlogs/container_1732639283265_3010_01_000001/livy\">Link</a></td><td>None</td><td></td></tr><tr><td>3060</td><td>application_1732639283265_3018</td><td>pyspark</td><td>idle</td><td><a target=\"_blank\" href=\"http://ip-192-168-1-36.eu-central-1.compute.internal:20888/proxy/application_1732639283265_3018/\">Link</a></td><td><a target=\"_blank\" href=\"http://ip-192-168-1-166.eu-central-1.compute.internal:8042/node/containerlogs/container_1732639283265_3018_01_000001/livy\">Link</a></td><td>None</td><td></td></tr><tr><td>3064</td><td>application_1732639283265_3021</td><td>pyspark</td><td>idle</td><td><a target=\"_blank\" href=\"http://ip-192-168-1-36.eu-central-1.compute.internal:20888/proxy/application_1732639283265_3021/\">Link</a></td><td><a target=\"_blank\" href=\"http://ip-192-168-1-203.eu-central-1.compute.internal:8042/node/containerlogs/container_1732639283265_3021_01_000001/livy\">Link</a></td><td>None</td><td></td></tr><tr><td>3068</td><td>application_1732639283265_3025</td><td>pyspark</td><td>idle</td><td><a target=\"_blank\" href=\"http://ip-192-168-1-36.eu-central-1.compute.internal:20888/proxy/application_1732639283265_3025/\">Link</a></td><td><a target=\"_blank\" href=\"http://ip-192-168-1-227.eu-central-1.compute.internal:8042/node/containerlogs/container_1732639283265_3025_01_000002/livy\">Link</a></td><td>None</td><td></td></tr><tr><td>3070</td><td>application_1732639283265_3026</td><td>pyspark</td><td>busy</td><td><a target=\"_blank\" href=\"http://ip-192-168-1-36.eu-central-1.compute.internal:20888/proxy/application_1732639283265_3026/\">Link</a></td><td><a target=\"_blank\" href=\"http://ip-192-168-1-94.eu-central-1.compute.internal:8042/node/containerlogs/container_1732639283265_3026_01_000002/livy\">Link</a></td><td>None</td><td></td></tr><tr><td>3071</td><td>application_1732639283265_3027</td><td>pyspark</td><td>idle</td><td><a target=\"_blank\" href=\"http://ip-192-168-1-36.eu-central-1.compute.internal:20888/proxy/application_1732639283265_3027/\">Link</a></td><td><a target=\"_blank\" href=\"http://ip-192-168-1-203.eu-central-1.compute.internal:8042/node/containerlogs/container_1732639283265_3027_01_000001/livy\">Link</a></td><td>None</td><td>✔</td></tr></table>"
      ],
      "text/plain": [
       "<IPython.core.display.HTML object>"
      ]
     },
     "metadata": {},
     "output_type": "display_data"
    }
   ],
   "source": [
    "%%configure -f\n",
    "{\n",
    "    \"conf\": {\n",
    "        \"spark.executor.instances\": \"4\",\n",
    "        \"spark.executor.memory\": \"4g\",\n",
    "        \"spark.executor.cores\": \"2\",\n",
    "        \"spark.driver.memory\": \"4g\"\n",
    "    }\n",
    "}"
   ]
  },
  {
   "cell_type": "code",
   "execution_count": 5,
   "id": "69dcdcc9-ea45-4645-9445-1ce28f4a3e2c",
   "metadata": {
    "tags": []
   },
   "outputs": [
    {
     "data": {
      "application/vnd.jupyter.widget-view+json": {
       "model_id": "",
       "version_major": 2,
       "version_minor": 0
      },
      "text/plain": [
       "FloatProgress(value=0.0, bar_style='info', description='Progress:', layout=Layout(height='25px', width='50%'),…"
      ]
     },
     "metadata": {},
     "output_type": "display_data"
    },
    {
     "name": "stdout",
     "output_type": "stream",
     "text": [
      "+----------------+-----------+------------------+\n",
      "|division        |crime_count|average_distance  |\n",
      "+----------------+-----------+------------------+\n",
      "|HOLLYWOOD       |224340     |2076.23809789341  |\n",
      "|VAN NUYS        |210134     |2953.338845065694 |\n",
      "|SOUTHWEST       |188901     |2191.340656892832 |\n",
      "|WILSHIRE        |185996     |2592.745867768168 |\n",
      "|77TH STREET     |171827     |1716.5037087811047|\n",
      "|OLYMPIC         |170824     |1723.0799804793512|\n",
      "|NORTH HOLLYWOOD |167854     |2642.9766238125007|\n",
      "|PACIFIC         |161359     |3850.0806994385694|\n",
      "|CENTRAL         |153871     |992.5207642454992 |\n",
      "|RAMPART         |152809     |1535.1721490412608|\n",
      "|SOUTHEAST       |152176     |2421.787272301805 |\n",
      "|WEST VALLEY     |138643     |3035.680867104131 |\n",
      "|TOPANGA         |138217     |3297.024719991776 |\n",
      "|FOOTHILL        |134896     |4250.907375925852 |\n",
      "|HARBOR          |126747     |3702.5396866918204|\n",
      "|HOLLENBECK      |119294     |366921.2363563665 |\n",
      "|WEST LOS ANGELES|115781     |2792.4871776997666|\n",
      "|NEWTON          |111110     |1634.6372110291682|\n",
      "|NORTHEAST       |108109     |3623.6280496804966|\n",
      "|MISSION         |103355     |3690.9655495888837|\n",
      "+----------------+-----------+------------------+\n",
      "only showing top 20 rows\n",
      "\n",
      "Time taken: 52.04 seconds"
     ]
    }
   ],
   "source": [
    "# Spark SQL code\n",
    "from sedona.spark import *\n",
    "from sedona.sql import *\n",
    "from pyspark.sql import SparkSession\n",
    "from pyspark.sql.types import StructField, StructType, IntegerType, FloatType, StringType\n",
    "from pyspark.sql.functions import col, row_number, count, avg\n",
    "from pyspark.sql.window import Window\n",
    "\n",
    "# To log our application's execution time:\n",
    "import time\n",
    "\n",
    "start_time = time.time()\n",
    "\n",
    "spark = SparkSession.builder \\\n",
    "    .appName(\"query5_1\") \\\n",
    "    .getOrCreate()\n",
    "\n",
    "sedona = SedonaContext.create(spark)\n",
    "\n",
    "police_schema = StructType([\n",
    "    StructField(\"X\", FloatType(), True),\n",
    "    StructField(\"Y\", FloatType(), True),\n",
    "    StructField(\"FID\", IntegerType(), True),\n",
    "    StructField(\"DIVISION\", StringType(), True),\n",
    "    StructField(\"LOCATION\", StringType(), True),\n",
    "    StructField(\"PREC\", IntegerType(), True)\n",
    "])\n",
    "# Start timing\n",
    "start_time = time.time()\n",
    "police_station_df = spark.read.format('csv') \\\n",
    "                .options(header='true') \\\n",
    "                .schema(police_schema) \\\n",
    "                .load(\"s3://initial-notebook-data-bucket-dblab-905418150721/LA_Police_Stations.csv\")\n",
    "\n",
    "crimes_schema = StructType([\n",
    "    StructField(\"DR_NO\", StringType(), True),\n",
    "    StructField(\"Date_Rptd\", StringType(), True),\n",
    "    StructField(\"DATE_OCC\", StringType(), True),\n",
    "    StructField(\"TIME_OCC\", StringType(), True),\n",
    "    StructField(\"AREA\", StringType(), True),\n",
    "    StructField(\"AREA_NAME\", StringType(), True),\n",
    "    StructField(\"Rpt_Dist_No\", StringType(), True),\n",
    "    StructField(\"Part_1-2\", StringType(), True),\n",
    "    StructField(\"Crm_Cd\", StringType(), True),\n",
    "    StructField(\"Crm_Cd_Desc\", StringType(), True),\n",
    "    StructField(\"Mocodes\", StringType(), True),\n",
    "    StructField(\"Vict_Age\", StringType(), True),\n",
    "    StructField(\"Vict_Sex\", StringType(), True),\n",
    "    StructField(\"Vict_Descent\", StringType(), True),\n",
    "    StructField(\"Premis_Cd\", StringType(), True),\n",
    "    StructField(\"Premis_Desc\", StringType(), True),\n",
    "    StructField(\"Weapon_Used_Cd\", StringType(), True),\n",
    "    StructField(\"Weapon_Desc\", StringType(), True),\n",
    "    StructField(\"Status\", StringType(), True),\n",
    "    StructField(\"Status_Desc\", StringType(), True),\n",
    "    StructField(\"Crm_Cd_1\", StringType(), True),\n",
    "    StructField(\"Crm_Cd_2\", StringType(), True),\n",
    "    StructField(\"Crm_Cd_3\", StringType(), True),\n",
    "    StructField(\"Crm_Cd_4\", StringType(), True),\n",
    "    StructField(\"LOCATION\", StringType(), True),\n",
    "    StructField(\"Cross_Street\", StringType(), True),\n",
    "    StructField(\"LAT\", StringType(), True),\n",
    "    StructField(\"LON\", StringType(), True)\n",
    "])\n",
    "\n",
    "crimes_df1 = spark.read.format('csv') \\\n",
    "                .options(header='false') \\\n",
    "                .schema(crimes_schema) \\\n",
    "                .load(\"s3://initial-notebook-data-bucket-dblab-905418150721/CrimeData/Crime_Data_from_2010_to_2019_20241101.csv\")\n",
    "\n",
    "crimes_df2 = spark.read.format('csv') \\\n",
    "                .options(header='true') \\\n",
    "                .schema(crimes_schema) \\\n",
    "                .load(\"s3://initial-notebook-data-bucket-dblab-905418150721/CrimeData/Crime_Data_from_2020_to_Present_20241101.csv\")\n",
    "\n",
    "crimes_df = crimes_df1.union(crimes_df2)\n",
    "\n",
    "# Filter valid coordinates and create geometry column for crimes\n",
    "crimes_df = crimes_df.filter((col(\"LAT\").isNotNull()) & (col(\"LON\").isNotNull()))\n",
    "crimes_df = crimes_df.withColumn(\"geometry\", ST_Point(col(\"LON\").cast(\"double\"), col(\"LAT\").cast(\"double\")))\n",
    "\n",
    "crimes_df.createOrReplaceTempView(\"crimes\")\n",
    "\n",
    "# Filter valid coordinates and create geometry column for police stations\n",
    "police_station_df = police_station_df.filter((col(\"X\").isNotNull()) & (col(\"Y\").isNotNull()))\n",
    "police_station_df = police_station_df.withColumn(\"geometry\", ST_Point(col(\"X\").cast(\"double\"), col(\"Y\").cast(\"double\")))\n",
    "\n",
    "police_station_df.createOrReplaceTempView(\"police_stations\")\n",
    "\n",
    "# Compute the distance between crimes and police stations\n",
    "# using Sedona's ST_Distance function.\n",
    "from pyspark.sql.functions import avg\n",
    "\n",
    "distance_df = spark.sql(\"\"\"\n",
    "    SELECT \n",
    "        p.DIVISION AS division,\n",
    "        c.DR_NO AS crime_id,\n",
    "        p.FID AS police_station_id,\n",
    "        ST_DistanceSphere(c.geometry, p.geometry) AS distance\n",
    "    FROM \n",
    "        crimes c, \n",
    "        police_stations p\n",
    "\"\"\")\n",
    "\n",
    "# Filtering the NULL distances\n",
    "distance_df = distance_df.filter(col(\"distance\").isNotNull())\n",
    "\n",
    "# Identify the nearest police station for each crime\n",
    "# row_number: Assigns a unique rank to each police station for each crime based on the distance.\n",
    "# The nearest station gets rank 1.\n",
    "\n",
    "window = Window.partitionBy(\"crime_id\").orderBy(\"distance\")\n",
    "nearest_ps_df = distance_df.withColumn(\"row_num\", row_number().over(window)) \\\n",
    "    .filter(col(\"row_num\") == 1) \\\n",
    "    .drop(\"row_num\")\n",
    "\n",
    "\n",
    "# Group by police station and count the number of nearest crimes\n",
    "crime_count_df = nearest_ps_df.groupBy(\"police_station_id\").agg(\n",
    "    count(\"crime_id\").alias(\"crime_count\")\n",
    ")\n",
    "\n",
    "# Calculate the average distance for each police station\n",
    "average_distance_df = nearest_ps_df.groupBy(\"police_station_id\", \"division\").agg(\n",
    "    avg(\"distance\").alias(\"average_distance\")\n",
    ")\n",
    "\n",
    "\n",
    "final_df = crime_count_df.join(\n",
    "    average_distance_df,\n",
    "    on=\"police_station_id\",\n",
    "    how=\"inner\"\n",
    ")\n",
    "\n",
    "final_df.select(\n",
    "    col(\"division\"),\n",
    "    col(\"crime_count\"),\n",
    "    col(\"average_distance\")).orderBy(col(\"crime_count\").desc()).show(truncate=False)\n",
    "\n",
    "# Stop timing and print out the execution duration\n",
    "end_time = time.time()\n",
    "elapsed_time = end_time - start_time\n",
    "print(f\"Time taken: {elapsed_time:.2f} seconds\")"
   ]
  }
 ],
 "metadata": {
  "kernelspec": {
   "display_name": "Sparkmagic (PySpark)",
   "language": "python",
   "name": "pysparkkernel"
  },
  "language_info": {
   "codemirror_mode": {
    "name": "python",
    "version": 3
   },
   "file_extension": ".py",
   "mimetype": "text/x-python",
   "name": "pyspark",
   "pygments_lexer": "python3"
  }
 },
 "nbformat": 4,
 "nbformat_minor": 5
}
